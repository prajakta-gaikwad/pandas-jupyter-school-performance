{
 "cells": [
  {
   "cell_type": "markdown",
   "metadata": {},
   "source": [
    "# Schools' Analysis\n",
    "\n",
    "* Overall, schools with higher budgets, did not yield better test results. By contrast, schools with higher spending per student actually  underperformed compared to schools with smaller budgets. (around 74% overall passing in schools with higher budgets (\\$645-675) vs 95% in schools spending less than \\$585 per student.)\n",
    "\n",
    "* Smaller and medium sized schools dramatically out-performed large sized schools, the difference is more obvious in terms of passing math performances (Around 94% passing vs 70%).\n",
    "\n",
    "* Overall, charter schools out-performed the public district schools across all metrics. However, more analysis will be required to validate if the effect is due to school practices or the fact that charter schools tend to serve smaller student populations per school. \n",
    "---"
   ]
  },
  {
   "cell_type": "markdown",
   "metadata": {},
   "source": [
    "# Importing dependensies and csv files"
   ]
  },
  {
   "cell_type": "code",
   "execution_count": 4,
   "metadata": {},
   "outputs": [],
   "source": [
    "# Dependencies and Setup\n",
    "import pandas as pd\n",
    "import numpy as np\n",
    "\n",
    "# File to Load\n",
    "school_data_path = \"Resources/schools_complete.csv\"\n",
    "student_data_path = \"Resources/students_complete.csv\"\n",
    "\n",
    "# Read School and Student Data File and store into Pandas Data Frames\n",
    "school_data = pd.read_csv(school_data_path)\n",
    "student_data = pd.read_csv(student_data_path)\n",
    "\n",
    "# Combine the data into a single dataset\n",
    "school_data_complete = pd.merge(student_data, school_data, how=\"left\", on=[\"school_name\", \"school_name\"])"
   ]
  },
  {
   "cell_type": "markdown",
   "metadata": {},
   "source": [
    "## District Summary\n",
    "\n",
    "* Calculate the total number of schools\n",
    "\n",
    "* Calculate the total number of students\n",
    "\n",
    "* Calculate the total budget\n",
    "\n",
    "* Calculate the average math score \n",
    "\n",
    "* Calculate the average reading score\n",
    "\n",
    "* Calculate the overall passing rate (overall average score), i.e. (avg. math score + avg. reading score)/2\n",
    "\n",
    "* Calculate the percentage of students with a passing math score (70 or greater)\n",
    "\n",
    "* Calculate the percentage of students with a passing reading score (70 or greater)\n",
    "\n",
    "* Create a dataframe to hold the above results\n",
    "\n",
    "* Optional: give the displayed data cleaner formatting"
   ]
  },
  {
   "cell_type": "code",
   "execution_count": 5,
   "metadata": {},
   "outputs": [],
   "source": [
    "#school_data_complete.head()\n",
    "#school_data_complete.columns\n",
    "#school_data_complete.head()\n",
    "#student_data[\"math_score\"]"
   ]
  },
  {
   "cell_type": "code",
   "execution_count": 6,
   "metadata": {},
   "outputs": [],
   "source": [
    "#Return Series with number of distinct observations over requested axis.\n",
    "total_schools = school_data_complete['school_name'].nunique()\n",
    "total_students = school_data_complete['Student ID'].nunique()\n",
    "total_budget = school_data['budget'].sum()\n",
    "average_math_score = student_data['math_score'].mean()\n",
    "average_reading_score = student_data['reading_score'].mean()\n",
    "average_overall_score = (average_math_score + average_reading_score)/2"
   ]
  },
  {
   "cell_type": "code",
   "execution_count": 7,
   "metadata": {},
   "outputs": [],
   "source": [
    "math_passing_filter = student_data[student_data['math_score'] >= 70]\n",
    "total_math_passed = math_passing_filter['math_score'].count()\n",
    "percent_math_passed = (total_math_passed/total_students)*100"
   ]
  },
  {
   "cell_type": "code",
   "execution_count": 8,
   "metadata": {},
   "outputs": [],
   "source": [
    "reading_passing_filter = student_data[student_data['reading_score'] >= 70]\n",
    "total_reading_passed = reading_passing_filter['reading_score'].count()\n",
    "percent_reading_passed = (total_reading_passed/total_students)*100"
   ]
  },
  {
   "cell_type": "code",
   "execution_count": 9,
   "metadata": {},
   "outputs": [],
   "source": [
    "#Creating a DataFrame to hold above results and formatting the displayed data\n",
    "district_summary = pd.DataFrame([[total_schools,total_students,\\\n",
    "                                  total_budget,\\\n",
    "                                  average_math_score,average_reading_score,\\\n",
    "                                  percent_math_passed,percent_reading_passed,\\\n",
    "      average_overall_score]], columns = ['Total Schools','Total Students',\\\n",
    "                                          'Total Budget','Average Math Score',\\\n",
    "                                          'Average Reading Score','%Passing Math',\\\n",
    "                                          '%Passing Reading','Overall Passing Rate'])\n",
    "district_summary[\"Total Students\"] = district_summary[\"Total Students\"].astype(float).map(\"{:,}\".format)\n",
    "district_summary[\"Total Budget\"] = district_summary[\"Total Budget\"].map(\"${:,.2f}\".format)\n",
    "district_summary[\"Average Math Score\"] = district_summary[\"Average Math Score\"].map(\"{:,.6f}\".format)\n",
    "district_summary[\"Average Reading Score\"] = district_summary[\"Average Reading Score\"].map(\"{:,.6f}\".format)\n",
    "district_summary[\"%Passing Math\"] = district_summary[\"%Passing Math\"].map(\"{:,.6f}\".format)\n",
    "district_summary[\"%Passing Reading\"] = district_summary[\"%Passing Reading\"].map(\"{:,.6f}\".format)\n",
    "district_summary[\"Overall Passing Rate\"] = district_summary[\"Overall Passing Rate\"].map(\"{:,.6f}\".format)"
   ]
  },
  {
   "cell_type": "code",
   "execution_count": 10,
   "metadata": {},
   "outputs": [
    {
     "data": {
      "text/html": [
       "<style type=\"text/css\">\n",
       "table.dataframe td, table.dataframe th {\n",
       "    border: 1px  black solid !important;\n",
       "  color: black !important;\n",
       "}"
      ],
      "text/plain": [
       "<IPython.core.display.HTML object>"
      ]
     },
     "metadata": {},
     "output_type": "display_data"
    }
   ],
   "source": [
    "%%HTML\n",
    "<style type=\"text/css\">\n",
    "table.dataframe td, table.dataframe th {\n",
    "    border: 1px  black solid !important;\n",
    "  color: black !important;\n",
    "}"
   ]
  },
  {
   "cell_type": "markdown",
   "metadata": {},
   "source": [
    "# High level snapshot of the District's key metrics"
   ]
  },
  {
   "cell_type": "code",
   "execution_count": 11,
   "metadata": {},
   "outputs": [
    {
     "data": {
      "text/html": [
       "<div>\n",
       "<style scoped>\n",
       "    .dataframe tbody tr th:only-of-type {\n",
       "        vertical-align: middle;\n",
       "    }\n",
       "\n",
       "    .dataframe tbody tr th {\n",
       "        vertical-align: top;\n",
       "    }\n",
       "\n",
       "    .dataframe thead th {\n",
       "        text-align: right;\n",
       "    }\n",
       "</style>\n",
       "<table border=\"1\" class=\"dataframe\">\n",
       "  <thead>\n",
       "    <tr style=\"text-align: right;\">\n",
       "      <th></th>\n",
       "      <th>Total Schools</th>\n",
       "      <th>Total Students</th>\n",
       "      <th>Total Budget</th>\n",
       "      <th>Average Math Score</th>\n",
       "      <th>Average Reading Score</th>\n",
       "      <th>%Passing Math</th>\n",
       "      <th>%Passing Reading</th>\n",
       "      <th>Overall Passing Rate</th>\n",
       "    </tr>\n",
       "  </thead>\n",
       "  <tbody>\n",
       "    <tr>\n",
       "      <th>0</th>\n",
       "      <td>15</td>\n",
       "      <td>39,170.0</td>\n",
       "      <td>$24,649,428.00</td>\n",
       "      <td>78.985371</td>\n",
       "      <td>81.877840</td>\n",
       "      <td>74.980853</td>\n",
       "      <td>85.805463</td>\n",
       "      <td>80.431606</td>\n",
       "    </tr>\n",
       "  </tbody>\n",
       "</table>\n",
       "</div>"
      ],
      "text/plain": [
       "   Total Schools Total Students    Total Budget Average Math Score  \\\n",
       "0             15       39,170.0  $24,649,428.00          78.985371   \n",
       "\n",
       "  Average Reading Score %Passing Math %Passing Reading Overall Passing Rate  \n",
       "0             81.877840     74.980853        85.805463            80.431606  "
      ]
     },
     "execution_count": 11,
     "metadata": {},
     "output_type": "execute_result"
    }
   ],
   "source": [
    "district_summary"
   ]
  },
  {
   "cell_type": "markdown",
   "metadata": {},
   "source": [
    "## School Summary"
   ]
  },
  {
   "cell_type": "markdown",
   "metadata": {},
   "source": [
    "**Create an overview table that summarizes key metrics about each school, including:**\n",
    "  * School Name\n",
    "  * School Type\n",
    "  * Total Students\n",
    "  * Total School Budget\n",
    "  * Per Student Budget\n",
    "  * Average Math Score\n",
    "  * Average Reading Score\n",
    "  * % Passing Math\n",
    "  * % Passing Reading\n",
    "  * Overall Passing Rate (Average of the above two)"
   ]
  },
  {
   "cell_type": "code",
   "execution_count": 12,
   "metadata": {},
   "outputs": [],
   "source": [
    "#school_data_complete.columns"
   ]
  },
  {
   "cell_type": "code",
   "execution_count": 13,
   "metadata": {},
   "outputs": [],
   "source": [
    "#Observations over requested axis.\n",
    "school_names = school_data['school_name']\n",
    "school_type = school_data['type']\n",
    "school_data_complete_group = school_data_complete.groupby(\"School ID\")"
   ]
  },
  {
   "cell_type": "code",
   "execution_count": 14,
   "metadata": {},
   "outputs": [],
   "source": [
    "total_students_per_school = school_data_complete_group['Student ID'].count()\n",
    "total_school_budget = school_data['budget']"
   ]
  },
  {
   "cell_type": "code",
   "execution_count": 15,
   "metadata": {},
   "outputs": [],
   "source": [
    "per_student_budget = school_data['budget']/school_data['size']\n"
   ]
  },
  {
   "cell_type": "code",
   "execution_count": 16,
   "metadata": {},
   "outputs": [],
   "source": [
    "total_math_score = school_data_complete_group['math_score'].sum()\n",
    "average_math_score_ps = total_math_score/total_students_per_school"
   ]
  },
  {
   "cell_type": "code",
   "execution_count": 17,
   "metadata": {},
   "outputs": [],
   "source": [
    "total_reading_score = school_data_complete_group['reading_score'].sum()\n",
    "average_reading_score_ps = total_reading_score/total_students_per_school"
   ]
  },
  {
   "cell_type": "code",
   "execution_count": 18,
   "metadata": {},
   "outputs": [],
   "source": [
    "total_math_passed = school_data_complete[school_data_complete['math_score'] >= 70]\n",
    "math_passed_per_school = total_math_passed.groupby(\"School ID\")['Student ID'].count()\n",
    "percent_math_passed_ps = (math_passed_per_school/total_students_per_school)*100"
   ]
  },
  {
   "cell_type": "code",
   "execution_count": 19,
   "metadata": {},
   "outputs": [],
   "source": [
    "total_reading_passed = school_data_complete[school_data_complete['reading_score'] >= 70]\n",
    "reading_passed_per_school = total_reading_passed.groupby(\"School ID\")['Student ID'].count()\n",
    "percent_reading_passed_ps = (reading_passed_per_school/total_students_per_school)*100"
   ]
  },
  {
   "cell_type": "code",
   "execution_count": 20,
   "metadata": {},
   "outputs": [],
   "source": [
    "percent_overall_passed = (percent_math_passed_ps + percent_reading_passed_ps)/2"
   ]
  },
  {
   "cell_type": "code",
   "execution_count": 69,
   "metadata": {},
   "outputs": [],
   "source": [
    "#Creating a DataFrame to hold above results and formatting the displayed data\n",
    "school_summary = pd.DataFrame({'Schools':school_names,'School Type':school_type,\\\n",
    "                               'Total Students':total_students_per_school,\\\n",
    "                               'Total School Budget':total_school_budget,\\\n",
    "                               'Per Student Budget':per_student_budget,\\\n",
    "                               'Average Math Score':average_math_score_ps,\\\n",
    "                               'Average Reading Score':average_reading_score_ps,\\\n",
    "                               '%Passing Math':percent_math_passed_ps,\\\n",
    "                               '%Passing Reading':percent_reading_passed_ps,\\\n",
    "                               'Overall Passing Rate':percent_overall_passed})\n",
    "\n",
    "school_summary[\"Total School Budget\"] = school_summary[\"Total School Budget\"].map(\"${:,.2f}\".format)\n",
    "school_summary[\"Average Math Score\"] = school_summary[\"Average Math Score\"].map(\"{:,.6f}\".format)\n",
    "school_summary[\"Average Reading Score\"] = school_summary[\"Average Reading Score\"].map(\"{:,.6f}\".format)\n",
    "school_summary[\"%Passing Math\"] = school_summary[\"%Passing Math\"].map(\"{:,.6f}\".format)\n",
    "school_summary[\"%Passing Reading\"] = school_summary[\"%Passing Reading\"].map(\"{:,.6f}\".format)\n",
    "school_summary[\"Overall Passing Rate\"] = school_summary[\"Overall Passing Rate\"].map(\"{:,.6f}\".format)\n",
    "school_summary[\"Average Math Score\"]=school_summary[\"Average Math Score\"].astype(str).astype(float)\n",
    "school_summary[\"Average Reading Score\"] = school_summary[\"Average Reading Score\"].astype(str).astype(float)\n",
    "school_summary[\"%Passing Math\"] = school_summary[\"%Passing Math\"].astype(str).astype(float)\n",
    "school_summary[\"%Passing Reading\"] = school_summary[\"%Passing Reading\"].astype(str).astype(float)\n",
    "school_summary[\"Overall Passing Rate\"] = school_summary[\"Overall Passing Rate\"].astype(str).astype(float)"
   ]
  },
  {
   "cell_type": "code",
   "execution_count": 73,
   "metadata": {},
   "outputs": [],
   "source": [
    "# With proper formatting \n",
    "school_summary_fmt = school_summary[[\"Schools\",\"Total Students\",\"Total School Budget\",\"Per Student Budget\",\\\n",
    "                                     \"Average Math Score\",\"Average Math Score\",\"Average Reading Score\",\"%Passing Math\",\"%Passing Reading\",\\\n",
    "                                     \"Overall Passing Rate\"]]\n",
    "school_summary_fmt[\"Per Student Budget\"] = school_summary[\"Per Student Budget\"].map(\"${:,.2f}\".format)"
   ]
  },
  {
   "cell_type": "markdown",
   "metadata": {},
   "source": [
    "## Key metrics of each school (School Summary)"
   ]
  },
  {
   "cell_type": "code",
   "execution_count": 76,
   "metadata": {},
   "outputs": [
    {
     "data": {
      "text/html": [
       "<div>\n",
       "<style scoped>\n",
       "    .dataframe tbody tr th:only-of-type {\n",
       "        vertical-align: middle;\n",
       "    }\n",
       "\n",
       "    .dataframe tbody tr th {\n",
       "        vertical-align: top;\n",
       "    }\n",
       "\n",
       "    .dataframe thead th {\n",
       "        text-align: right;\n",
       "    }\n",
       "</style>\n",
       "<table border=\"1\" class=\"dataframe\">\n",
       "  <thead>\n",
       "    <tr style=\"text-align: right;\">\n",
       "      <th></th>\n",
       "      <th>Schools</th>\n",
       "      <th>Total Students</th>\n",
       "      <th>Total School Budget</th>\n",
       "      <th>Per Student Budget</th>\n",
       "      <th>Average Math Score</th>\n",
       "      <th>Average Math Score</th>\n",
       "      <th>Average Reading Score</th>\n",
       "      <th>%Passing Math</th>\n",
       "      <th>%Passing Reading</th>\n",
       "      <th>Overall Passing Rate</th>\n",
       "    </tr>\n",
       "  </thead>\n",
       "  <tbody>\n",
       "    <tr>\n",
       "      <th>0</th>\n",
       "      <td>Huang High School</td>\n",
       "      <td>2917</td>\n",
       "      <td>$1,910,635.00</td>\n",
       "      <td>$655.00</td>\n",
       "      <td>76.629414</td>\n",
       "      <td>76.629414</td>\n",
       "      <td>81.182722</td>\n",
       "      <td>65.683922</td>\n",
       "      <td>81.316421</td>\n",
       "      <td>73.500171</td>\n",
       "    </tr>\n",
       "    <tr>\n",
       "      <th>1</th>\n",
       "      <td>Figueroa High School</td>\n",
       "      <td>2949</td>\n",
       "      <td>$1,884,411.00</td>\n",
       "      <td>$639.00</td>\n",
       "      <td>76.711767</td>\n",
       "      <td>76.711767</td>\n",
       "      <td>81.158020</td>\n",
       "      <td>65.988471</td>\n",
       "      <td>80.739234</td>\n",
       "      <td>73.363852</td>\n",
       "    </tr>\n",
       "    <tr>\n",
       "      <th>2</th>\n",
       "      <td>Shelton High School</td>\n",
       "      <td>1761</td>\n",
       "      <td>$1,056,600.00</td>\n",
       "      <td>$600.00</td>\n",
       "      <td>83.359455</td>\n",
       "      <td>83.359455</td>\n",
       "      <td>83.725724</td>\n",
       "      <td>93.867121</td>\n",
       "      <td>95.854628</td>\n",
       "      <td>94.860875</td>\n",
       "    </tr>\n",
       "    <tr>\n",
       "      <th>3</th>\n",
       "      <td>Hernandez High School</td>\n",
       "      <td>4635</td>\n",
       "      <td>$3,022,020.00</td>\n",
       "      <td>$652.00</td>\n",
       "      <td>77.289752</td>\n",
       "      <td>77.289752</td>\n",
       "      <td>80.934412</td>\n",
       "      <td>66.752967</td>\n",
       "      <td>80.862999</td>\n",
       "      <td>73.807983</td>\n",
       "    </tr>\n",
       "    <tr>\n",
       "      <th>4</th>\n",
       "      <td>Griffin High School</td>\n",
       "      <td>1468</td>\n",
       "      <td>$917,500.00</td>\n",
       "      <td>$625.00</td>\n",
       "      <td>83.351499</td>\n",
       "      <td>83.351499</td>\n",
       "      <td>83.816757</td>\n",
       "      <td>93.392371</td>\n",
       "      <td>97.138965</td>\n",
       "      <td>95.265668</td>\n",
       "    </tr>\n",
       "  </tbody>\n",
       "</table>\n",
       "</div>"
      ],
      "text/plain": [
       "                 Schools  Total Students Total School Budget  \\\n",
       "0      Huang High School            2917       $1,910,635.00   \n",
       "1   Figueroa High School            2949       $1,884,411.00   \n",
       "2    Shelton High School            1761       $1,056,600.00   \n",
       "3  Hernandez High School            4635       $3,022,020.00   \n",
       "4    Griffin High School            1468         $917,500.00   \n",
       "\n",
       "  Per Student Budget  Average Math Score  Average Math Score  \\\n",
       "0            $655.00           76.629414           76.629414   \n",
       "1            $639.00           76.711767           76.711767   \n",
       "2            $600.00           83.359455           83.359455   \n",
       "3            $652.00           77.289752           77.289752   \n",
       "4            $625.00           83.351499           83.351499   \n",
       "\n",
       "   Average Reading Score  %Passing Math  %Passing Reading  \\\n",
       "0              81.182722      65.683922         81.316421   \n",
       "1              81.158020      65.988471         80.739234   \n",
       "2              83.725724      93.867121         95.854628   \n",
       "3              80.934412      66.752967         80.862999   \n",
       "4              83.816757      93.392371         97.138965   \n",
       "\n",
       "   Overall Passing Rate  \n",
       "0             73.500171  \n",
       "1             73.363852  \n",
       "2             94.860875  \n",
       "3             73.807983  \n",
       "4             95.265668  "
      ]
     },
     "execution_count": 76,
     "metadata": {},
     "output_type": "execute_result"
    }
   ],
   "source": [
    "school_summary_fmt.head()"
   ]
  },
  {
   "cell_type": "markdown",
   "metadata": {},
   "source": [
    "## Top Performing Schools (By Passing Rate)"
   ]
  },
  {
   "cell_type": "code",
   "execution_count": 77,
   "metadata": {},
   "outputs": [
    {
     "data": {
      "text/html": [
       "<div>\n",
       "<style scoped>\n",
       "    .dataframe tbody tr th:only-of-type {\n",
       "        vertical-align: middle;\n",
       "    }\n",
       "\n",
       "    .dataframe tbody tr th {\n",
       "        vertical-align: top;\n",
       "    }\n",
       "\n",
       "    .dataframe thead th {\n",
       "        text-align: right;\n",
       "    }\n",
       "</style>\n",
       "<table border=\"1\" class=\"dataframe\">\n",
       "  <thead>\n",
       "    <tr style=\"text-align: right;\">\n",
       "      <th></th>\n",
       "      <th>Total Students</th>\n",
       "      <th>Total School Budget</th>\n",
       "      <th>Per Student Budget</th>\n",
       "      <th>Average Math Score</th>\n",
       "      <th>Average Math Score</th>\n",
       "      <th>Average Reading Score</th>\n",
       "      <th>%Passing Math</th>\n",
       "      <th>%Passing Reading</th>\n",
       "      <th>Overall Passing Rate</th>\n",
       "    </tr>\n",
       "    <tr>\n",
       "      <th>Schools</th>\n",
       "      <th></th>\n",
       "      <th></th>\n",
       "      <th></th>\n",
       "      <th></th>\n",
       "      <th></th>\n",
       "      <th></th>\n",
       "      <th></th>\n",
       "      <th></th>\n",
       "      <th></th>\n",
       "    </tr>\n",
       "  </thead>\n",
       "  <tbody>\n",
       "    <tr>\n",
       "      <th>Cabrera High School</th>\n",
       "      <td>1858</td>\n",
       "      <td>$1,081,356.00</td>\n",
       "      <td>$582.00</td>\n",
       "      <td>83.061895</td>\n",
       "      <td>83.061895</td>\n",
       "      <td>83.975780</td>\n",
       "      <td>94.133477</td>\n",
       "      <td>97.039828</td>\n",
       "      <td>95.586652</td>\n",
       "    </tr>\n",
       "    <tr>\n",
       "      <th>Thomas High School</th>\n",
       "      <td>1635</td>\n",
       "      <td>$1,043,130.00</td>\n",
       "      <td>$638.00</td>\n",
       "      <td>83.418349</td>\n",
       "      <td>83.418349</td>\n",
       "      <td>83.848930</td>\n",
       "      <td>93.272171</td>\n",
       "      <td>97.308869</td>\n",
       "      <td>95.290520</td>\n",
       "    </tr>\n",
       "    <tr>\n",
       "      <th>Pena High School</th>\n",
       "      <td>962</td>\n",
       "      <td>$585,858.00</td>\n",
       "      <td>$609.00</td>\n",
       "      <td>83.839917</td>\n",
       "      <td>83.839917</td>\n",
       "      <td>84.044699</td>\n",
       "      <td>94.594595</td>\n",
       "      <td>95.945946</td>\n",
       "      <td>95.270270</td>\n",
       "    </tr>\n",
       "    <tr>\n",
       "      <th>Griffin High School</th>\n",
       "      <td>1468</td>\n",
       "      <td>$917,500.00</td>\n",
       "      <td>$625.00</td>\n",
       "      <td>83.351499</td>\n",
       "      <td>83.351499</td>\n",
       "      <td>83.816757</td>\n",
       "      <td>93.392371</td>\n",
       "      <td>97.138965</td>\n",
       "      <td>95.265668</td>\n",
       "    </tr>\n",
       "    <tr>\n",
       "      <th>Wilson High School</th>\n",
       "      <td>2283</td>\n",
       "      <td>$1,319,574.00</td>\n",
       "      <td>$578.00</td>\n",
       "      <td>83.274201</td>\n",
       "      <td>83.274201</td>\n",
       "      <td>83.989488</td>\n",
       "      <td>93.867718</td>\n",
       "      <td>96.539641</td>\n",
       "      <td>95.203679</td>\n",
       "    </tr>\n",
       "  </tbody>\n",
       "</table>\n",
       "</div>"
      ],
      "text/plain": [
       "                     Total Students Total School Budget Per Student Budget  \\\n",
       "Schools                                                                      \n",
       "Cabrera High School            1858       $1,081,356.00            $582.00   \n",
       "Thomas High School             1635       $1,043,130.00            $638.00   \n",
       "Pena High School                962         $585,858.00            $609.00   \n",
       "Griffin High School            1468         $917,500.00            $625.00   \n",
       "Wilson High School             2283       $1,319,574.00            $578.00   \n",
       "\n",
       "                     Average Math Score  Average Math Score  \\\n",
       "Schools                                                       \n",
       "Cabrera High School           83.061895           83.061895   \n",
       "Thomas High School            83.418349           83.418349   \n",
       "Pena High School              83.839917           83.839917   \n",
       "Griffin High School           83.351499           83.351499   \n",
       "Wilson High School            83.274201           83.274201   \n",
       "\n",
       "                     Average Reading Score  %Passing Math  %Passing Reading  \\\n",
       "Schools                                                                       \n",
       "Cabrera High School              83.975780      94.133477         97.039828   \n",
       "Thomas High School               83.848930      93.272171         97.308869   \n",
       "Pena High School                 84.044699      94.594595         95.945946   \n",
       "Griffin High School              83.816757      93.392371         97.138965   \n",
       "Wilson High School               83.989488      93.867718         96.539641   \n",
       "\n",
       "                     Overall Passing Rate  \n",
       "Schools                                    \n",
       "Cabrera High School             95.586652  \n",
       "Thomas High School              95.290520  \n",
       "Pena High School                95.270270  \n",
       "Griffin High School             95.265668  \n",
       "Wilson High School              95.203679  "
      ]
     },
     "execution_count": 77,
     "metadata": {},
     "output_type": "execute_result"
    }
   ],
   "source": [
    "school_summary_fmt.reset_index(drop=True).set_index('Schools').\\\n",
    "sort_values(by=['Overall Passing Rate'],ascending = False).head(5)"
   ]
  },
  {
   "cell_type": "markdown",
   "metadata": {},
   "source": [
    "## Bottom Performing Schools (By Passing Rate)"
   ]
  },
  {
   "cell_type": "code",
   "execution_count": 78,
   "metadata": {},
   "outputs": [
    {
     "data": {
      "text/html": [
       "<div>\n",
       "<style scoped>\n",
       "    .dataframe tbody tr th:only-of-type {\n",
       "        vertical-align: middle;\n",
       "    }\n",
       "\n",
       "    .dataframe tbody tr th {\n",
       "        vertical-align: top;\n",
       "    }\n",
       "\n",
       "    .dataframe thead th {\n",
       "        text-align: right;\n",
       "    }\n",
       "</style>\n",
       "<table border=\"1\" class=\"dataframe\">\n",
       "  <thead>\n",
       "    <tr style=\"text-align: right;\">\n",
       "      <th></th>\n",
       "      <th>Total Students</th>\n",
       "      <th>Total School Budget</th>\n",
       "      <th>Per Student Budget</th>\n",
       "      <th>Average Math Score</th>\n",
       "      <th>Average Math Score</th>\n",
       "      <th>Average Reading Score</th>\n",
       "      <th>%Passing Math</th>\n",
       "      <th>%Passing Reading</th>\n",
       "      <th>Overall Passing Rate</th>\n",
       "    </tr>\n",
       "    <tr>\n",
       "      <th>Schools</th>\n",
       "      <th></th>\n",
       "      <th></th>\n",
       "      <th></th>\n",
       "      <th></th>\n",
       "      <th></th>\n",
       "      <th></th>\n",
       "      <th></th>\n",
       "      <th></th>\n",
       "      <th></th>\n",
       "    </tr>\n",
       "  </thead>\n",
       "  <tbody>\n",
       "    <tr>\n",
       "      <th>Rodriguez High School</th>\n",
       "      <td>3999</td>\n",
       "      <td>$2,547,363.00</td>\n",
       "      <td>$637.00</td>\n",
       "      <td>76.842711</td>\n",
       "      <td>76.842711</td>\n",
       "      <td>80.744686</td>\n",
       "      <td>66.366592</td>\n",
       "      <td>80.220055</td>\n",
       "      <td>73.293323</td>\n",
       "    </tr>\n",
       "    <tr>\n",
       "      <th>Figueroa High School</th>\n",
       "      <td>2949</td>\n",
       "      <td>$1,884,411.00</td>\n",
       "      <td>$639.00</td>\n",
       "      <td>76.711767</td>\n",
       "      <td>76.711767</td>\n",
       "      <td>81.158020</td>\n",
       "      <td>65.988471</td>\n",
       "      <td>80.739234</td>\n",
       "      <td>73.363852</td>\n",
       "    </tr>\n",
       "    <tr>\n",
       "      <th>Huang High School</th>\n",
       "      <td>2917</td>\n",
       "      <td>$1,910,635.00</td>\n",
       "      <td>$655.00</td>\n",
       "      <td>76.629414</td>\n",
       "      <td>76.629414</td>\n",
       "      <td>81.182722</td>\n",
       "      <td>65.683922</td>\n",
       "      <td>81.316421</td>\n",
       "      <td>73.500171</td>\n",
       "    </tr>\n",
       "    <tr>\n",
       "      <th>Johnson High School</th>\n",
       "      <td>4761</td>\n",
       "      <td>$3,094,650.00</td>\n",
       "      <td>$650.00</td>\n",
       "      <td>77.072464</td>\n",
       "      <td>77.072464</td>\n",
       "      <td>80.966394</td>\n",
       "      <td>66.057551</td>\n",
       "      <td>81.222432</td>\n",
       "      <td>73.639992</td>\n",
       "    </tr>\n",
       "    <tr>\n",
       "      <th>Ford High School</th>\n",
       "      <td>2739</td>\n",
       "      <td>$1,763,916.00</td>\n",
       "      <td>$644.00</td>\n",
       "      <td>77.102592</td>\n",
       "      <td>77.102592</td>\n",
       "      <td>80.746258</td>\n",
       "      <td>68.309602</td>\n",
       "      <td>79.299014</td>\n",
       "      <td>73.804308</td>\n",
       "    </tr>\n",
       "  </tbody>\n",
       "</table>\n",
       "</div>"
      ],
      "text/plain": [
       "                       Total Students Total School Budget Per Student Budget  \\\n",
       "Schools                                                                        \n",
       "Rodriguez High School            3999       $2,547,363.00            $637.00   \n",
       "Figueroa High School             2949       $1,884,411.00            $639.00   \n",
       "Huang High School                2917       $1,910,635.00            $655.00   \n",
       "Johnson High School              4761       $3,094,650.00            $650.00   \n",
       "Ford High School                 2739       $1,763,916.00            $644.00   \n",
       "\n",
       "                       Average Math Score  Average Math Score  \\\n",
       "Schools                                                         \n",
       "Rodriguez High School           76.842711           76.842711   \n",
       "Figueroa High School            76.711767           76.711767   \n",
       "Huang High School               76.629414           76.629414   \n",
       "Johnson High School             77.072464           77.072464   \n",
       "Ford High School                77.102592           77.102592   \n",
       "\n",
       "                       Average Reading Score  %Passing Math  %Passing Reading  \\\n",
       "Schools                                                                         \n",
       "Rodriguez High School              80.744686      66.366592         80.220055   \n",
       "Figueroa High School               81.158020      65.988471         80.739234   \n",
       "Huang High School                  81.182722      65.683922         81.316421   \n",
       "Johnson High School                80.966394      66.057551         81.222432   \n",
       "Ford High School                   80.746258      68.309602         79.299014   \n",
       "\n",
       "                       Overall Passing Rate  \n",
       "Schools                                      \n",
       "Rodriguez High School             73.293323  \n",
       "Figueroa High School              73.363852  \n",
       "Huang High School                 73.500171  \n",
       "Johnson High School               73.639992  \n",
       "Ford High School                  73.804308  "
      ]
     },
     "execution_count": 78,
     "metadata": {},
     "output_type": "execute_result"
    }
   ],
   "source": [
    "school_summary_fmt.reset_index(drop=True).set_index('Schools').\\\n",
    "sort_values(by=['Overall Passing Rate']).head(5)"
   ]
  },
  {
   "cell_type": "code",
   "execution_count": 79,
   "metadata": {},
   "outputs": [],
   "source": [
    "#school_data_complete.columns\n",
    "#school_summary.dtypes"
   ]
  },
  {
   "cell_type": "markdown",
   "metadata": {},
   "source": [
    "## Scores by Grade"
   ]
  },
  {
   "cell_type": "markdown",
   "metadata": {},
   "source": [
    "**Create a table that lists the average Math Score for students of each grade level (9th, 10th, 11th, 12th) at each school.**\n",
    "\n",
    "Create a pandas series for each grade.\n",
    "\n",
    "Group each series by school\n",
    "\n",
    "Combine the series into a dataframe"
   ]
  },
  {
   "cell_type": "code",
   "execution_count": 80,
   "metadata": {},
   "outputs": [],
   "source": [
    "score_9thgrade = school_data_complete.loc[school_data_complete[\"grade\"]==\"9th\"]\n",
    "ninth_grade = score_9thgrade.groupby(\"School ID\")[['math_score','reading_score']].mean()"
   ]
  },
  {
   "cell_type": "code",
   "execution_count": 81,
   "metadata": {},
   "outputs": [],
   "source": [
    "score_10thgrade = school_data_complete.loc[school_data_complete[\"grade\"]==\"10th\"]\n",
    "tenth_grade = score_10thgrade.groupby(\"School ID\")[['math_score','reading_score']].mean()"
   ]
  },
  {
   "cell_type": "code",
   "execution_count": 82,
   "metadata": {
    "scrolled": true
   },
   "outputs": [],
   "source": [
    "score_11thgrade = school_data_complete.loc[school_data_complete[\"grade\"]==\"11th\"]\n",
    "eleventh_grade = score_11thgrade.groupby(\"School ID\")[['math_score','reading_score']].mean()"
   ]
  },
  {
   "cell_type": "code",
   "execution_count": 83,
   "metadata": {},
   "outputs": [],
   "source": [
    "score_12thgrade = school_data_complete.loc[school_data_complete[\"grade\"]==\"12th\"]\n",
    "twelth_grade = score_12thgrade.groupby(\"School ID\")[['math_score','reading_score']].mean()"
   ]
  },
  {
   "cell_type": "code",
   "execution_count": 84,
   "metadata": {},
   "outputs": [],
   "source": [
    "math_score_bygrade = pd.DataFrame({'Schools':school_names,\"9th\":ninth_grade[\"math_score\"],\"10th\":tenth_grade[\"math_score\"],\\\n",
    "                                  \"11th\":eleventh_grade[\"math_score\"],\"12th\":twelth_grade[\"math_score\"]})\n",
    "math_score_bygrade[\"9th\"] = math_score_bygrade[\"9th\"].map(\"{:,.6f}\".format)\n",
    "math_score_bygrade[\"10th\"] = math_score_bygrade[\"10th\"].map(\"{:,.6f}\".format)\n",
    "math_score_bygrade[\"11th\"] = math_score_bygrade[\"11th\"].map(\"{:,.6f}\".format)\n",
    "math_score_bygrade[\"12th\"] = math_score_bygrade[\"12th\"].map(\"{:,.6f}\".format)"
   ]
  },
  {
   "cell_type": "markdown",
   "metadata": {},
   "source": [
    "## Math Scores by Grade"
   ]
  },
  {
   "cell_type": "code",
   "execution_count": 85,
   "metadata": {},
   "outputs": [
    {
     "data": {
      "text/html": [
       "<div>\n",
       "<style scoped>\n",
       "    .dataframe tbody tr th:only-of-type {\n",
       "        vertical-align: middle;\n",
       "    }\n",
       "\n",
       "    .dataframe tbody tr th {\n",
       "        vertical-align: top;\n",
       "    }\n",
       "\n",
       "    .dataframe thead th {\n",
       "        text-align: right;\n",
       "    }\n",
       "</style>\n",
       "<table border=\"1\" class=\"dataframe\">\n",
       "  <thead>\n",
       "    <tr style=\"text-align: right;\">\n",
       "      <th></th>\n",
       "      <th>9th</th>\n",
       "      <th>10th</th>\n",
       "      <th>11th</th>\n",
       "      <th>12th</th>\n",
       "    </tr>\n",
       "    <tr>\n",
       "      <th>Schools</th>\n",
       "      <th></th>\n",
       "      <th></th>\n",
       "      <th></th>\n",
       "      <th></th>\n",
       "    </tr>\n",
       "  </thead>\n",
       "  <tbody>\n",
       "    <tr>\n",
       "      <th>Bailey High School</th>\n",
       "      <td>77.083676</td>\n",
       "      <td>76.996772</td>\n",
       "      <td>77.515588</td>\n",
       "      <td>76.492218</td>\n",
       "    </tr>\n",
       "    <tr>\n",
       "      <th>Cabrera High School</th>\n",
       "      <td>83.094697</td>\n",
       "      <td>83.154506</td>\n",
       "      <td>82.765560</td>\n",
       "      <td>83.277487</td>\n",
       "    </tr>\n",
       "    <tr>\n",
       "      <th>Figueroa High School</th>\n",
       "      <td>76.403037</td>\n",
       "      <td>76.539974</td>\n",
       "      <td>76.884344</td>\n",
       "      <td>77.151369</td>\n",
       "    </tr>\n",
       "    <tr>\n",
       "      <th>Ford High School</th>\n",
       "      <td>77.361345</td>\n",
       "      <td>77.672316</td>\n",
       "      <td>76.918058</td>\n",
       "      <td>76.179963</td>\n",
       "    </tr>\n",
       "    <tr>\n",
       "      <th>Griffin High School</th>\n",
       "      <td>82.044010</td>\n",
       "      <td>84.229064</td>\n",
       "      <td>83.842105</td>\n",
       "      <td>83.356164</td>\n",
       "    </tr>\n",
       "    <tr>\n",
       "      <th>Hernandez High School</th>\n",
       "      <td>77.438495</td>\n",
       "      <td>77.337408</td>\n",
       "      <td>77.136029</td>\n",
       "      <td>77.186567</td>\n",
       "    </tr>\n",
       "    <tr>\n",
       "      <th>Holden High School</th>\n",
       "      <td>83.787402</td>\n",
       "      <td>83.429825</td>\n",
       "      <td>85.000000</td>\n",
       "      <td>82.855422</td>\n",
       "    </tr>\n",
       "    <tr>\n",
       "      <th>Huang High School</th>\n",
       "      <td>77.027251</td>\n",
       "      <td>75.908735</td>\n",
       "      <td>76.446602</td>\n",
       "      <td>77.225641</td>\n",
       "    </tr>\n",
       "    <tr>\n",
       "      <th>Johnson High School</th>\n",
       "      <td>77.187857</td>\n",
       "      <td>76.691117</td>\n",
       "      <td>77.491653</td>\n",
       "      <td>76.863248</td>\n",
       "    </tr>\n",
       "    <tr>\n",
       "      <th>Pena High School</th>\n",
       "      <td>83.625455</td>\n",
       "      <td>83.372000</td>\n",
       "      <td>84.328125</td>\n",
       "      <td>84.121547</td>\n",
       "    </tr>\n",
       "    <tr>\n",
       "      <th>Rodriguez High School</th>\n",
       "      <td>76.859966</td>\n",
       "      <td>76.612500</td>\n",
       "      <td>76.395626</td>\n",
       "      <td>77.690748</td>\n",
       "    </tr>\n",
       "    <tr>\n",
       "      <th>Shelton High School</th>\n",
       "      <td>83.420755</td>\n",
       "      <td>82.917411</td>\n",
       "      <td>83.383495</td>\n",
       "      <td>83.778976</td>\n",
       "    </tr>\n",
       "    <tr>\n",
       "      <th>Thomas High School</th>\n",
       "      <td>83.590022</td>\n",
       "      <td>83.087886</td>\n",
       "      <td>83.498795</td>\n",
       "      <td>83.497041</td>\n",
       "    </tr>\n",
       "    <tr>\n",
       "      <th>Wilson High School</th>\n",
       "      <td>83.085578</td>\n",
       "      <td>83.724422</td>\n",
       "      <td>83.195326</td>\n",
       "      <td>83.035794</td>\n",
       "    </tr>\n",
       "    <tr>\n",
       "      <th>Wright High School</th>\n",
       "      <td>83.264706</td>\n",
       "      <td>84.010288</td>\n",
       "      <td>83.836782</td>\n",
       "      <td>83.644986</td>\n",
       "    </tr>\n",
       "  </tbody>\n",
       "</table>\n",
       "</div>"
      ],
      "text/plain": [
       "                             9th       10th       11th       12th\n",
       "Schools                                                          \n",
       "Bailey High School     77.083676  76.996772  77.515588  76.492218\n",
       "Cabrera High School    83.094697  83.154506  82.765560  83.277487\n",
       "Figueroa High School   76.403037  76.539974  76.884344  77.151369\n",
       "Ford High School       77.361345  77.672316  76.918058  76.179963\n",
       "Griffin High School    82.044010  84.229064  83.842105  83.356164\n",
       "Hernandez High School  77.438495  77.337408  77.136029  77.186567\n",
       "Holden High School     83.787402  83.429825  85.000000  82.855422\n",
       "Huang High School      77.027251  75.908735  76.446602  77.225641\n",
       "Johnson High School    77.187857  76.691117  77.491653  76.863248\n",
       "Pena High School       83.625455  83.372000  84.328125  84.121547\n",
       "Rodriguez High School  76.859966  76.612500  76.395626  77.690748\n",
       "Shelton High School    83.420755  82.917411  83.383495  83.778976\n",
       "Thomas High School     83.590022  83.087886  83.498795  83.497041\n",
       "Wilson High School     83.085578  83.724422  83.195326  83.035794\n",
       "Wright High School     83.264706  84.010288  83.836782  83.644986"
      ]
     },
     "execution_count": 85,
     "metadata": {},
     "output_type": "execute_result"
    }
   ],
   "source": [
    "math_score_bygrade.reset_index(drop=True).set_index('Schools').sort_values(by=['Schools'])"
   ]
  },
  {
   "cell_type": "markdown",
   "metadata": {},
   "source": [
    "**Create a table that lists the average Reading Score for students of each grade level (9th, 10th, 11th, 12th) at each school:**\n",
    "\n",
    "Create a pandas series for each grade.\n",
    "\n",
    "Group each series by school\n",
    "\n",
    "Combine the series into a dataframe"
   ]
  },
  {
   "cell_type": "code",
   "execution_count": 86,
   "metadata": {},
   "outputs": [],
   "source": [
    "reading_score_bygrade = pd.DataFrame({'Schools':school_names,\"9th\":ninth_grade[\"reading_score\"],\"10th\":tenth_grade[\"reading_score\"],\\\n",
    "                                  \"11th\":eleventh_grade[\"reading_score\"],\"12th\":twelth_grade[\"reading_score\"]})\n",
    "reading_score_bygrade[\"9th\"] = reading_score_bygrade[\"9th\"].map(\"{:,.6f}\".format)\n",
    "reading_score_bygrade[\"10th\"] = reading_score_bygrade[\"10th\"].map(\"{:,.6f}\".format)\n",
    "reading_score_bygrade[\"11th\"] = reading_score_bygrade[\"11th\"].map(\"{:,.6f}\".format)\n",
    "reading_score_bygrade[\"12th\"] = reading_score_bygrade[\"12th\"].map(\"{:,.6f}\".format)"
   ]
  },
  {
   "cell_type": "markdown",
   "metadata": {},
   "source": [
    "## Reading Score by Grade "
   ]
  },
  {
   "cell_type": "code",
   "execution_count": 87,
   "metadata": {},
   "outputs": [
    {
     "data": {
      "text/html": [
       "<div>\n",
       "<style scoped>\n",
       "    .dataframe tbody tr th:only-of-type {\n",
       "        vertical-align: middle;\n",
       "    }\n",
       "\n",
       "    .dataframe tbody tr th {\n",
       "        vertical-align: top;\n",
       "    }\n",
       "\n",
       "    .dataframe thead th {\n",
       "        text-align: right;\n",
       "    }\n",
       "</style>\n",
       "<table border=\"1\" class=\"dataframe\">\n",
       "  <thead>\n",
       "    <tr style=\"text-align: right;\">\n",
       "      <th></th>\n",
       "      <th>9th</th>\n",
       "      <th>10th</th>\n",
       "      <th>11th</th>\n",
       "      <th>12th</th>\n",
       "    </tr>\n",
       "    <tr>\n",
       "      <th>Schools</th>\n",
       "      <th></th>\n",
       "      <th></th>\n",
       "      <th></th>\n",
       "      <th></th>\n",
       "    </tr>\n",
       "  </thead>\n",
       "  <tbody>\n",
       "    <tr>\n",
       "      <th>Bailey High School</th>\n",
       "      <td>81.303155</td>\n",
       "      <td>80.907183</td>\n",
       "      <td>80.945643</td>\n",
       "      <td>80.912451</td>\n",
       "    </tr>\n",
       "    <tr>\n",
       "      <th>Cabrera High School</th>\n",
       "      <td>83.676136</td>\n",
       "      <td>84.253219</td>\n",
       "      <td>83.788382</td>\n",
       "      <td>84.287958</td>\n",
       "    </tr>\n",
       "    <tr>\n",
       "      <th>Figueroa High School</th>\n",
       "      <td>81.198598</td>\n",
       "      <td>81.408912</td>\n",
       "      <td>80.640339</td>\n",
       "      <td>81.384863</td>\n",
       "    </tr>\n",
       "    <tr>\n",
       "      <th>Ford High School</th>\n",
       "      <td>80.632653</td>\n",
       "      <td>81.262712</td>\n",
       "      <td>80.403642</td>\n",
       "      <td>80.662338</td>\n",
       "    </tr>\n",
       "    <tr>\n",
       "      <th>Griffin High School</th>\n",
       "      <td>83.369193</td>\n",
       "      <td>83.706897</td>\n",
       "      <td>84.288089</td>\n",
       "      <td>84.013699</td>\n",
       "    </tr>\n",
       "    <tr>\n",
       "      <th>Hernandez High School</th>\n",
       "      <td>80.866860</td>\n",
       "      <td>80.660147</td>\n",
       "      <td>81.396140</td>\n",
       "      <td>80.857143</td>\n",
       "    </tr>\n",
       "    <tr>\n",
       "      <th>Holden High School</th>\n",
       "      <td>83.677165</td>\n",
       "      <td>83.324561</td>\n",
       "      <td>83.815534</td>\n",
       "      <td>84.698795</td>\n",
       "    </tr>\n",
       "    <tr>\n",
       "      <th>Huang High School</th>\n",
       "      <td>81.290284</td>\n",
       "      <td>81.512386</td>\n",
       "      <td>81.417476</td>\n",
       "      <td>80.305983</td>\n",
       "    </tr>\n",
       "    <tr>\n",
       "      <th>Johnson High School</th>\n",
       "      <td>81.260714</td>\n",
       "      <td>80.773431</td>\n",
       "      <td>80.616027</td>\n",
       "      <td>81.227564</td>\n",
       "    </tr>\n",
       "    <tr>\n",
       "      <th>Pena High School</th>\n",
       "      <td>83.807273</td>\n",
       "      <td>83.612000</td>\n",
       "      <td>84.335938</td>\n",
       "      <td>84.591160</td>\n",
       "    </tr>\n",
       "    <tr>\n",
       "      <th>Rodriguez High School</th>\n",
       "      <td>80.993127</td>\n",
       "      <td>80.629808</td>\n",
       "      <td>80.864811</td>\n",
       "      <td>80.376426</td>\n",
       "    </tr>\n",
       "    <tr>\n",
       "      <th>Shelton High School</th>\n",
       "      <td>84.122642</td>\n",
       "      <td>83.441964</td>\n",
       "      <td>84.373786</td>\n",
       "      <td>82.781671</td>\n",
       "    </tr>\n",
       "    <tr>\n",
       "      <th>Thomas High School</th>\n",
       "      <td>83.728850</td>\n",
       "      <td>84.254157</td>\n",
       "      <td>83.585542</td>\n",
       "      <td>83.831361</td>\n",
       "    </tr>\n",
       "    <tr>\n",
       "      <th>Wilson High School</th>\n",
       "      <td>83.939778</td>\n",
       "      <td>84.021452</td>\n",
       "      <td>83.764608</td>\n",
       "      <td>84.317673</td>\n",
       "    </tr>\n",
       "    <tr>\n",
       "      <th>Wright High School</th>\n",
       "      <td>83.833333</td>\n",
       "      <td>83.812757</td>\n",
       "      <td>84.156322</td>\n",
       "      <td>84.073171</td>\n",
       "    </tr>\n",
       "  </tbody>\n",
       "</table>\n",
       "</div>"
      ],
      "text/plain": [
       "                             9th       10th       11th       12th\n",
       "Schools                                                          \n",
       "Bailey High School     81.303155  80.907183  80.945643  80.912451\n",
       "Cabrera High School    83.676136  84.253219  83.788382  84.287958\n",
       "Figueroa High School   81.198598  81.408912  80.640339  81.384863\n",
       "Ford High School       80.632653  81.262712  80.403642  80.662338\n",
       "Griffin High School    83.369193  83.706897  84.288089  84.013699\n",
       "Hernandez High School  80.866860  80.660147  81.396140  80.857143\n",
       "Holden High School     83.677165  83.324561  83.815534  84.698795\n",
       "Huang High School      81.290284  81.512386  81.417476  80.305983\n",
       "Johnson High School    81.260714  80.773431  80.616027  81.227564\n",
       "Pena High School       83.807273  83.612000  84.335938  84.591160\n",
       "Rodriguez High School  80.993127  80.629808  80.864811  80.376426\n",
       "Shelton High School    84.122642  83.441964  84.373786  82.781671\n",
       "Thomas High School     83.728850  84.254157  83.585542  83.831361\n",
       "Wilson High School     83.939778  84.021452  83.764608  84.317673\n",
       "Wright High School     83.833333  83.812757  84.156322  84.073171"
      ]
     },
     "execution_count": 87,
     "metadata": {},
     "output_type": "execute_result"
    }
   ],
   "source": [
    "reading_score_bygrade.reset_index(drop=True).set_index('Schools').sort_values(by=['Schools'])"
   ]
  },
  {
   "cell_type": "markdown",
   "metadata": {},
   "source": [
    "## School performances based on average spending ranges of schools per student"
   ]
  },
  {
   "cell_type": "markdown",
   "metadata": {},
   "source": [
    "**Create a table that breaks down school performances based on average Spending Ranges (Per Student). Include in the table each of the following:**\n",
    "  * Average Math Score\n",
    "  * Average Reading Score\n",
    "  * % Passing Math\n",
    "  * % Passing Reading\n",
    "  * Overall Passing Rate (Average of the above two)"
   ]
  },
  {
   "cell_type": "code",
   "execution_count": 88,
   "metadata": {},
   "outputs": [],
   "source": [
    "#school_summary['Per Student Budget'].max()\n",
    "#school_summary['Per Student Budget'].min()\n",
    "#school_summary.columns\n",
    "#school_data_complete"
   ]
  },
  {
   "cell_type": "code",
   "execution_count": 89,
   "metadata": {},
   "outputs": [],
   "source": [
    "#Using 4 bins to group school spending.\n",
    "spending_bins = [0, 585, 615, 645, 675]\n",
    "group_names = [\"<$585\", \"$585-615\", \"$615-645\", \"$645-675\"]"
   ]
  },
  {
   "cell_type": "code",
   "execution_count": 90,
   "metadata": {},
   "outputs": [],
   "source": [
    "school_summary['Spending Ranges(Per Student)'] = pd.cut(school_summary['Per Student Budget'],spending_bins,labels=group_names) "
   ]
  },
  {
   "cell_type": "code",
   "execution_count": 91,
   "metadata": {},
   "outputs": [],
   "source": [
    "avg_math_score_by_spending = school_summary.groupby('Spending Ranges(Per Student)')['Average Math Score'].mean()\n",
    "avg_reading_score_by_spending = school_summary.groupby('Spending Ranges(Per Student)')['Average Reading Score'].mean()\n",
    "pct_passed_math_by_spending = school_summary.groupby('Spending Ranges(Per Student)')['%Passing Math'].mean()\n",
    "pct_passed_reading_by_spending = school_summary.groupby('Spending Ranges(Per Student)')['%Passing Reading'].mean()\n",
    "overall_passing_by_spending = (pct_passed_math_by_spending + pct_passed_reading_by_spending)/2"
   ]
  },
  {
   "cell_type": "code",
   "execution_count": 92,
   "metadata": {},
   "outputs": [],
   "source": [
    "scores_by_school_spending = pd.DataFrame({'Average Math Score':avg_math_score_by_spending,\\\n",
    "                                         'Average Reading Score':avg_reading_score_by_spending,\\\n",
    "                                         '%Passing Math':pct_passed_math_by_spending,\\\n",
    "                                          '%Passing Reading':pct_passed_reading_by_spending,\\\n",
    "                                          'Overall Passing Rate':overall_passing_by_spending})\n",
    "scores_by_school_spending['Average Math Score']=scores_by_school_spending['Average Math Score'].map('{:.6f}'.format)\n",
    "scores_by_school_spending['Average Reading Score']=scores_by_school_spending['Average Reading Score'].map('{:.6f}'.format)\n",
    "scores_by_school_spending['%Passing Math']=scores_by_school_spending['%Passing Math'].map('{:.6f}'.format)\n",
    "scores_by_school_spending['%Passing Reading']=scores_by_school_spending['%Passing Reading'].map('{:.6f}'.format)\n",
    "scores_by_school_spending['Overall Passing Rate']=scores_by_school_spending['Overall Passing Rate'].map('{:.6f}'.format)"
   ]
  },
  {
   "cell_type": "markdown",
   "metadata": {},
   "source": [
    "## Scores by School Spending"
   ]
  },
  {
   "cell_type": "code",
   "execution_count": 93,
   "metadata": {},
   "outputs": [
    {
     "data": {
      "text/html": [
       "<div>\n",
       "<style scoped>\n",
       "    .dataframe tbody tr th:only-of-type {\n",
       "        vertical-align: middle;\n",
       "    }\n",
       "\n",
       "    .dataframe tbody tr th {\n",
       "        vertical-align: top;\n",
       "    }\n",
       "\n",
       "    .dataframe thead th {\n",
       "        text-align: right;\n",
       "    }\n",
       "</style>\n",
       "<table border=\"1\" class=\"dataframe\">\n",
       "  <thead>\n",
       "    <tr style=\"text-align: right;\">\n",
       "      <th></th>\n",
       "      <th>Average Math Score</th>\n",
       "      <th>Average Reading Score</th>\n",
       "      <th>%Passing Math</th>\n",
       "      <th>%Passing Reading</th>\n",
       "      <th>Overall Passing Rate</th>\n",
       "    </tr>\n",
       "    <tr>\n",
       "      <th>Spending Ranges(Per Student)</th>\n",
       "      <th></th>\n",
       "      <th></th>\n",
       "      <th></th>\n",
       "      <th></th>\n",
       "      <th></th>\n",
       "    </tr>\n",
       "  </thead>\n",
       "  <tbody>\n",
       "    <tr>\n",
       "      <th>&lt;$585</th>\n",
       "      <td>83.455399</td>\n",
       "      <td>83.933814</td>\n",
       "      <td>93.460096</td>\n",
       "      <td>96.610877</td>\n",
       "      <td>95.035486</td>\n",
       "    </tr>\n",
       "    <tr>\n",
       "      <th>$585-615</th>\n",
       "      <td>83.599686</td>\n",
       "      <td>83.885211</td>\n",
       "      <td>94.230858</td>\n",
       "      <td>95.900287</td>\n",
       "      <td>95.065573</td>\n",
       "    </tr>\n",
       "    <tr>\n",
       "      <th>$615-645</th>\n",
       "      <td>79.079225</td>\n",
       "      <td>81.891436</td>\n",
       "      <td>75.668212</td>\n",
       "      <td>86.106569</td>\n",
       "      <td>80.887391</td>\n",
       "    </tr>\n",
       "    <tr>\n",
       "      <th>$645-675</th>\n",
       "      <td>76.997210</td>\n",
       "      <td>81.027843</td>\n",
       "      <td>66.164813</td>\n",
       "      <td>81.133951</td>\n",
       "      <td>73.649382</td>\n",
       "    </tr>\n",
       "  </tbody>\n",
       "</table>\n",
       "</div>"
      ],
      "text/plain": [
       "                             Average Math Score Average Reading Score  \\\n",
       "Spending Ranges(Per Student)                                            \n",
       "<$585                                 83.455399             83.933814   \n",
       "$585-615                              83.599686             83.885211   \n",
       "$615-645                              79.079225             81.891436   \n",
       "$645-675                              76.997210             81.027843   \n",
       "\n",
       "                             %Passing Math %Passing Reading  \\\n",
       "Spending Ranges(Per Student)                                  \n",
       "<$585                            93.460096        96.610877   \n",
       "$585-615                         94.230858        95.900287   \n",
       "$615-645                         75.668212        86.106569   \n",
       "$645-675                         66.164813        81.133951   \n",
       "\n",
       "                             Overall Passing Rate  \n",
       "Spending Ranges(Per Student)                       \n",
       "<$585                                   95.035486  \n",
       "$585-615                                95.065573  \n",
       "$615-645                                80.887391  \n",
       "$645-675                                73.649382  "
      ]
     },
     "execution_count": 93,
     "metadata": {},
     "output_type": "execute_result"
    }
   ],
   "source": [
    "scores_by_school_spending"
   ]
  },
  {
   "cell_type": "markdown",
   "metadata": {},
   "source": [
    "## School Performances based on the size of the school"
   ]
  },
  {
   "cell_type": "markdown",
   "metadata": {},
   "source": [
    "**Create a table that breaks down school performances based on the size of the school. Include in the table each of the following:**\n",
    "  * Average Math Score\n",
    "  * Average Reading Score\n",
    "  * % Passing Math\n",
    "  * % Passing Reading\n",
    "  * Overall Passing Rate (Average of the above two)"
   ]
  },
  {
   "cell_type": "code",
   "execution_count": 94,
   "metadata": {},
   "outputs": [],
   "source": [
    "#Using 3 bins to group school sizes.\n",
    "size_bins = [0, 1000, 2000, 5000]\n",
    "size_names = [\"Small (<1000)\", \"Medium (1000-2000)\", \"Large (2000-5000)\"]"
   ]
  },
  {
   "cell_type": "code",
   "execution_count": 95,
   "metadata": {},
   "outputs": [],
   "source": [
    "school_summary['School Size'] = pd.cut(school_summary['Total Students'],size_bins,labels=size_names) "
   ]
  },
  {
   "cell_type": "code",
   "execution_count": 96,
   "metadata": {},
   "outputs": [],
   "source": [
    "avg_math_score_by_size = school_summary.groupby('School Size')['Average Math Score'].mean()\n",
    "avg_reading_score_by_size = school_summary.groupby('School Size')['Average Reading Score'].mean()\n",
    "pct_passed_math_by_size = school_summary.groupby('School Size')['%Passing Math'].mean()\n",
    "pct_passed_reading_by_size = school_summary.groupby('School Size')['%Passing Reading'].mean()\n",
    "overall_passing_by_size = (pct_passed_math_by_size + pct_passed_reading_by_size)/2"
   ]
  },
  {
   "cell_type": "code",
   "execution_count": 97,
   "metadata": {},
   "outputs": [],
   "source": [
    "scores_by_school_size = pd.DataFrame({'Average Math Score':avg_math_score_by_size,\\\n",
    "                                         'Average Reading Score':avg_reading_score_by_size,\\\n",
    "                                         '%Passing Math':pct_passed_math_by_size,\\\n",
    "                                          '%Passing Reading':pct_passed_reading_by_size,\\\n",
    "                                          'Overall Passing Rate':overall_passing_by_size})\n",
    "scores_by_school_size['Average Math Score']=scores_by_school_size['Average Math Score'].map('{:.6f}'.format)\n",
    "scores_by_school_size['Average Reading Score']=scores_by_school_size['Average Reading Score'].map('{:.6f}'.format)\n",
    "scores_by_school_size['%Passing Math']=scores_by_school_size['%Passing Math'].map('{:.6f}'.format)\n",
    "scores_by_school_size['%Passing Reading']=scores_by_school_size['%Passing Reading'].map('{:.6f}'.format)\n",
    "scores_by_school_size['Overall Passing Rate']=scores_by_school_size['Overall Passing Rate'].map('{:.6f}'.format)"
   ]
  },
  {
   "cell_type": "markdown",
   "metadata": {},
   "source": [
    "## Scores by School Size"
   ]
  },
  {
   "cell_type": "code",
   "execution_count": 98,
   "metadata": {},
   "outputs": [
    {
     "data": {
      "text/html": [
       "<div>\n",
       "<style scoped>\n",
       "    .dataframe tbody tr th:only-of-type {\n",
       "        vertical-align: middle;\n",
       "    }\n",
       "\n",
       "    .dataframe tbody tr th {\n",
       "        vertical-align: top;\n",
       "    }\n",
       "\n",
       "    .dataframe thead th {\n",
       "        text-align: right;\n",
       "    }\n",
       "</style>\n",
       "<table border=\"1\" class=\"dataframe\">\n",
       "  <thead>\n",
       "    <tr style=\"text-align: right;\">\n",
       "      <th></th>\n",
       "      <th>Average Math Score</th>\n",
       "      <th>Average Reading Score</th>\n",
       "      <th>%Passing Math</th>\n",
       "      <th>%Passing Reading</th>\n",
       "      <th>Overall Passing Rate</th>\n",
       "    </tr>\n",
       "    <tr>\n",
       "      <th>School Size</th>\n",
       "      <th></th>\n",
       "      <th></th>\n",
       "      <th></th>\n",
       "      <th></th>\n",
       "      <th></th>\n",
       "    </tr>\n",
       "  </thead>\n",
       "  <tbody>\n",
       "    <tr>\n",
       "      <th>Small (&lt;1000)</th>\n",
       "      <td>83.821598</td>\n",
       "      <td>83.929844</td>\n",
       "      <td>93.550225</td>\n",
       "      <td>96.099436</td>\n",
       "      <td>94.824831</td>\n",
       "    </tr>\n",
       "    <tr>\n",
       "      <th>Medium (1000-2000)</th>\n",
       "      <td>83.374684</td>\n",
       "      <td>83.864438</td>\n",
       "      <td>93.599695</td>\n",
       "      <td>96.790680</td>\n",
       "      <td>95.195187</td>\n",
       "    </tr>\n",
       "    <tr>\n",
       "      <th>Large (2000-5000)</th>\n",
       "      <td>77.746417</td>\n",
       "      <td>81.344493</td>\n",
       "      <td>69.963361</td>\n",
       "      <td>82.766635</td>\n",
       "      <td>76.364998</td>\n",
       "    </tr>\n",
       "  </tbody>\n",
       "</table>\n",
       "</div>"
      ],
      "text/plain": [
       "                   Average Math Score Average Reading Score %Passing Math  \\\n",
       "School Size                                                                 \n",
       "Small (<1000)               83.821598             83.929844     93.550225   \n",
       "Medium (1000-2000)          83.374684             83.864438     93.599695   \n",
       "Large (2000-5000)           77.746417             81.344493     69.963361   \n",
       "\n",
       "                   %Passing Reading Overall Passing Rate  \n",
       "School Size                                               \n",
       "Small (<1000)             96.099436            94.824831  \n",
       "Medium (1000-2000)        96.790680            95.195187  \n",
       "Large (2000-5000)         82.766635            76.364998  "
      ]
     },
     "execution_count": 98,
     "metadata": {},
     "output_type": "execute_result"
    }
   ],
   "source": [
    "scores_by_school_size"
   ]
  },
  {
   "cell_type": "markdown",
   "metadata": {},
   "source": [
    "## School Performances based on the type of school"
   ]
  },
  {
   "cell_type": "markdown",
   "metadata": {},
   "source": [
    "**Create a table that breaks down school performances based on the type of the school. Include in the table each of the following:**\n",
    "  * Average Math Score\n",
    "  * Average Reading Score\n",
    "  * % Passing Math\n",
    "  * % Passing Reading\n",
    "  * Overall Passing Rate (Average of the above two)"
   ]
  },
  {
   "cell_type": "code",
   "execution_count": 99,
   "metadata": {},
   "outputs": [],
   "source": [
    "avg_math_by_type = school_summary.groupby('School Type')['Average Math Score'].mean()\n",
    "avg_reading_by_type = school_summary.groupby('School Type')['Average Reading Score'].mean()\n",
    "pct_passed_math_by_type = school_summary.groupby('School Type')['%Passing Math'].mean()\n",
    "pct_passed_reading_by_type = school_summary.groupby('School Type')['%Passing Reading'].mean()\n",
    "overall_passing_by_type = school_summary.groupby('School Type')['Overall Passing Rate'].mean()"
   ]
  },
  {
   "cell_type": "code",
   "execution_count": 100,
   "metadata": {},
   "outputs": [],
   "source": [
    "scores_by_school_type = pd.DataFrame({'Average Math Score':avg_math_by_type,\\\n",
    "                                         'Average Reading Score':avg_reading_by_type,\\\n",
    "                                         '%Passing Math':pct_passed_math_by_type,\\\n",
    "                                          '%Passing Reading':pct_passed_reading_by_type,\\\n",
    "                                          'Overall Passing Rate':overall_passing_by_type})\n",
    "scores_by_school_type['Average Math Score']=scores_by_school_type['Average Math Score'].map('{:.6f}'.format)\n",
    "scores_by_school_type['Average Reading Score']=scores_by_school_type['Average Reading Score'].map('{:.6f}'.format)\n",
    "scores_by_school_type['%Passing Math']=scores_by_school_type['%Passing Math'].map('{:.6f}'.format)\n",
    "scores_by_school_type['%Passing Reading']=scores_by_school_type['%Passing Reading'].map('{:.6f}'.format)\n",
    "scores_by_school_type['Overall Passing Rate']=scores_by_school_type['Overall Passing Rate'].map('{:.6f}'.format)"
   ]
  },
  {
   "cell_type": "markdown",
   "metadata": {},
   "source": [
    "## Scores by School Type"
   ]
  },
  {
   "cell_type": "code",
   "execution_count": 101,
   "metadata": {},
   "outputs": [
    {
     "data": {
      "text/html": [
       "<div>\n",
       "<style scoped>\n",
       "    .dataframe tbody tr th:only-of-type {\n",
       "        vertical-align: middle;\n",
       "    }\n",
       "\n",
       "    .dataframe tbody tr th {\n",
       "        vertical-align: top;\n",
       "    }\n",
       "\n",
       "    .dataframe thead th {\n",
       "        text-align: right;\n",
       "    }\n",
       "</style>\n",
       "<table border=\"1\" class=\"dataframe\">\n",
       "  <thead>\n",
       "    <tr style=\"text-align: right;\">\n",
       "      <th></th>\n",
       "      <th>Average Math Score</th>\n",
       "      <th>Average Reading Score</th>\n",
       "      <th>%Passing Math</th>\n",
       "      <th>%Passing Reading</th>\n",
       "      <th>Overall Passing Rate</th>\n",
       "    </tr>\n",
       "    <tr>\n",
       "      <th>School Type</th>\n",
       "      <th></th>\n",
       "      <th></th>\n",
       "      <th></th>\n",
       "      <th></th>\n",
       "      <th></th>\n",
       "    </tr>\n",
       "  </thead>\n",
       "  <tbody>\n",
       "    <tr>\n",
       "      <th>Charter</th>\n",
       "      <td>83.473852</td>\n",
       "      <td>83.896421</td>\n",
       "      <td>93.620830</td>\n",
       "      <td>96.586489</td>\n",
       "      <td>95.103660</td>\n",
       "    </tr>\n",
       "    <tr>\n",
       "      <th>District</th>\n",
       "      <td>76.956733</td>\n",
       "      <td>80.966636</td>\n",
       "      <td>66.548453</td>\n",
       "      <td>80.799062</td>\n",
       "      <td>73.673757</td>\n",
       "    </tr>\n",
       "  </tbody>\n",
       "</table>\n",
       "</div>"
      ],
      "text/plain": [
       "            Average Math Score Average Reading Score %Passing Math  \\\n",
       "School Type                                                          \n",
       "Charter              83.473852             83.896421     93.620830   \n",
       "District             76.956733             80.966636     66.548453   \n",
       "\n",
       "            %Passing Reading Overall Passing Rate  \n",
       "School Type                                        \n",
       "Charter            96.586489            95.103660  \n",
       "District           80.799062            73.673757  "
      ]
     },
     "execution_count": 101,
     "metadata": {},
     "output_type": "execute_result"
    }
   ],
   "source": [
    "scores_by_school_type"
   ]
  },
  {
   "cell_type": "code",
   "execution_count": null,
   "metadata": {},
   "outputs": [],
   "source": []
  }
 ],
 "metadata": {
  "anaconda-cloud": {},
  "kernel_info": {
   "name": "python3"
  },
  "kernelspec": {
   "display_name": "Python 3",
   "language": "python",
   "name": "python3"
  },
  "language_info": {
   "codemirror_mode": {
    "name": "ipython",
    "version": 3
   },
   "file_extension": ".py",
   "mimetype": "text/x-python",
   "name": "python",
   "nbconvert_exporter": "python",
   "pygments_lexer": "ipython3",
   "version": "3.6.5"
  },
  "nteract": {
   "version": "0.8.4"
  }
 },
 "nbformat": 4,
 "nbformat_minor": 1
}
